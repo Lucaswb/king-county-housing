{
 "cells": [
  {
   "cell_type": "markdown",
   "metadata": {},
   "source": [
    "# Creating table for RP sales\n",
    "\n",
    "This will create a pandas data frame with the necessary information from the EXTR_RPSales.csv and will include a unique id based on the the Major and the Minor values and then will aso return \n",
    "\n",
    "the square footage of the property\n",
    "### Imports"
   ]
  },
  {
   "cell_type": "code",
   "execution_count": 1,
   "metadata": {},
   "outputs": [],
   "source": [
    "import pandas as pd"
   ]
  },
  {
   "cell_type": "code",
   "execution_count": 8,
   "metadata": {},
   "outputs": [],
   "source": [
    "fields = ['Major','Minor', 'SalePrice', 'DocumentDate']\n",
    "\n",
    "df_rpsales = pd.read_csv('csv_files/raw/EXTR_RPSale.csv', usecols=fields)"
   ]
  },
  {
   "cell_type": "code",
   "execution_count": 11,
   "metadata": {},
   "outputs": [],
   "source": [
    "df_rpsales = df_rpsales[df_rpsales.DocumentDate.str.contains('2018')== True]"
   ]
  },
  {
   "cell_type": "code",
   "execution_count": 13,
   "metadata": {},
   "outputs": [],
   "source": [
    "df_rpsales['id'] = df_rpsales.Major.astype(str)+df_rpsales.Minor.astype(str)"
   ]
  },
  {
   "cell_type": "code",
   "execution_count": 15,
   "metadata": {},
   "outputs": [],
   "source": [
    "del df_rpsales['Major']"
   ]
  },
  {
   "cell_type": "code",
   "execution_count": 16,
   "metadata": {},
   "outputs": [],
   "source": [
    "del df_rpsales['Minor']"
   ]
  },
  {
   "cell_type": "code",
   "execution_count": 17,
   "metadata": {},
   "outputs": [
    {
     "data": {
      "text/html": [
       "<div>\n",
       "<style scoped>\n",
       "    .dataframe tbody tr th:only-of-type {\n",
       "        vertical-align: middle;\n",
       "    }\n",
       "\n",
       "    .dataframe tbody tr th {\n",
       "        vertical-align: top;\n",
       "    }\n",
       "\n",
       "    .dataframe thead th {\n",
       "        text-align: right;\n",
       "    }\n",
       "</style>\n",
       "<table border=\"1\" class=\"dataframe\">\n",
       "  <thead>\n",
       "    <tr style=\"text-align: right;\">\n",
       "      <th></th>\n",
       "      <th>DocumentDate</th>\n",
       "      <th>SalePrice</th>\n",
       "      <th>id</th>\n",
       "    </tr>\n",
       "  </thead>\n",
       "  <tbody>\n",
       "    <tr>\n",
       "      <th>13</th>\n",
       "      <td>09/13/2018</td>\n",
       "      <td>165000</td>\n",
       "      <td>28180920</td>\n",
       "    </tr>\n",
       "    <tr>\n",
       "      <th>110</th>\n",
       "      <td>04/03/2018</td>\n",
       "      <td>0</td>\n",
       "      <td>388190170</td>\n",
       "    </tr>\n",
       "    <tr>\n",
       "      <th>212</th>\n",
       "      <td>11/24/2018</td>\n",
       "      <td>1035000</td>\n",
       "      <td>924190170</td>\n",
       "    </tr>\n",
       "    <tr>\n",
       "      <th>244</th>\n",
       "      <td>03/29/2018</td>\n",
       "      <td>965000</td>\n",
       "      <td>3856905560</td>\n",
       "    </tr>\n",
       "    <tr>\n",
       "      <th>298</th>\n",
       "      <td>09/12/2018</td>\n",
       "      <td>888000</td>\n",
       "      <td>3326059208</td>\n",
       "    </tr>\n",
       "    <tr>\n",
       "      <th>...</th>\n",
       "      <td>...</td>\n",
       "      <td>...</td>\n",
       "      <td>...</td>\n",
       "    </tr>\n",
       "    <tr>\n",
       "      <th>2057867</th>\n",
       "      <td>07/23/2018</td>\n",
       "      <td>488000</td>\n",
       "      <td>133270190</td>\n",
       "    </tr>\n",
       "    <tr>\n",
       "      <th>2057891</th>\n",
       "      <td>06/06/2018</td>\n",
       "      <td>0</td>\n",
       "      <td>403940530</td>\n",
       "    </tr>\n",
       "    <tr>\n",
       "      <th>2057901</th>\n",
       "      <td>10/16/2018</td>\n",
       "      <td>915000</td>\n",
       "      <td>414520160</td>\n",
       "    </tr>\n",
       "    <tr>\n",
       "      <th>2057936</th>\n",
       "      <td>02/28/2018</td>\n",
       "      <td>0</td>\n",
       "      <td>119300195</td>\n",
       "    </tr>\n",
       "    <tr>\n",
       "      <th>2057967</th>\n",
       "      <td>06/06/2018</td>\n",
       "      <td>425000</td>\n",
       "      <td>511330181</td>\n",
       "    </tr>\n",
       "  </tbody>\n",
       "</table>\n",
       "<p>61053 rows × 3 columns</p>\n",
       "</div>"
      ],
      "text/plain": [
       "        DocumentDate  SalePrice          id\n",
       "13        09/13/2018     165000    28180920\n",
       "110       04/03/2018          0   388190170\n",
       "212       11/24/2018    1035000   924190170\n",
       "244       03/29/2018     965000  3856905560\n",
       "298       09/12/2018     888000  3326059208\n",
       "...              ...        ...         ...\n",
       "2057867   07/23/2018     488000   133270190\n",
       "2057891   06/06/2018          0   403940530\n",
       "2057901   10/16/2018     915000   414520160\n",
       "2057936   02/28/2018          0   119300195\n",
       "2057967   06/06/2018     425000   511330181\n",
       "\n",
       "[61053 rows x 3 columns]"
      ]
     },
     "execution_count": 17,
     "metadata": {},
     "output_type": "execute_result"
    }
   ],
   "source": [
    "df_rpsales"
   ]
  },
  {
   "cell_type": "code",
   "execution_count": 18,
   "metadata": {},
   "outputs": [],
   "source": [
    "df_rpsales.to_csv(r'csv_files/filtered/rpsales.csv')"
   ]
  },
  {
   "cell_type": "code",
   "execution_count": null,
   "metadata": {},
   "outputs": [],
   "source": []
  }
 ],
 "metadata": {
  "kernelspec": {
   "display_name": "Python 3 (learn-env)",
   "language": "python",
   "name": "learn-env"
  },
  "language_info": {
   "codemirror_mode": {
    "name": "ipython",
    "version": 3
   },
   "file_extension": ".py",
   "mimetype": "text/x-python",
   "name": "python",
   "nbconvert_exporter": "python",
   "pygments_lexer": "ipython3",
   "version": "3.7.4"
  }
 },
 "nbformat": 4,
 "nbformat_minor": 2
}
