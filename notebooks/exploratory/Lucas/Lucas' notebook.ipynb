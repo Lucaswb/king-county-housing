{
 "cells": [
  {
   "cell_type": "code",
   "execution_count": 18,
   "metadata": {},
   "outputs": [],
   "source": [
    "from sqlalchemy import create_engine\n",
    "import pandas as pd\n",
    "import seaborn as sns\n",
    "import matplotlib.pyplot as plt\n",
    "\n",
    "def pullsqldata():\n",
    "    \"\"\"This function pulls the necessary columns and rows from the PostGRES DB into a Pandas Dataframe in order \n",
    "    to continue with our EDA \"\"\"\n",
    "    \n",
    "    engine = create_engine(\"postgresql:///kc_housing\")\n",
    "    query = \"\"\"\n",
    "                SELECT *\n",
    "                FROM rpsale AS s\n",
    "                INNER JOIN resbldg AS b ON CONCAT(s.Major,s.Minor) = CONCAT(b.Major, b.Minor)\n",
    "                INNER JOIN parcel AS p ON CONCAT(s.Major,s.Minor) = CONCAT(p.Major,p.Minor)\n",
    "                WHERE EXTRACT(YEAR FROM CAST(documentdate AS DATE)) = 2018\n",
    "                    AND p.proptype = 'R'\n",
    "                ;\"\"\"\n",
    "    kc_df = pd.read_sql(sql = query, con = engine)\n",
    "    return kc_df\n"
   ]
  },
  {
   "cell_type": "code",
   "execution_count": null,
   "metadata": {},
   "outputs": [],
   "source": []
  },
  {
   "cell_type": "code",
   "execution_count": 4,
   "metadata": {},
   "outputs": [],
   "source": [
    "df = pullsqldata()"
   ]
  },
  {
   "cell_type": "code",
   "execution_count": 22,
   "metadata": {},
   "outputs": [
    {
     "name": "stdout",
     "output_type": "stream",
     "text": [
      "excisetaxnbr\n",
      "major\n",
      "minor\n",
      "documentdate\n",
      "saleprice\n",
      "recordingnbr\n",
      "volume\n",
      "page\n",
      "platnbr\n",
      "plattype\n",
      "platlot\n",
      "platblock\n",
      "sellername\n",
      "buyername\n",
      "propertytype\n",
      "principaluse\n",
      "saleinstrument\n",
      "afforestland\n",
      "afcurrentuseland\n",
      "afnonprofituse\n",
      "afhistoricproperty\n",
      "salereason\n",
      "propertyclass\n",
      "salewarning\n",
      "major\n",
      "minor\n",
      "bldgnbr\n",
      "nbrlivingunits\n",
      "address\n",
      "buildingnumber\n",
      "fraction\n",
      "directionprefix\n",
      "streetname\n",
      "streettype\n",
      "directionsuffix\n",
      "zipcode\n",
      "stories\n",
      "bldggrade\n",
      "bldggradevar\n",
      "sqft1stfloor\n",
      "sqfthalffloor\n",
      "sqft2ndfloor\n",
      "sqftupperfloor\n",
      "sqftunfinfull\n",
      "sqftunfinhalf\n",
      "sqfttotliving\n",
      "sqfttotbasement\n",
      "sqftfinbasement\n",
      "finbasementgrade\n",
      "sqftgaragebasement\n",
      "sqftgarageattached\n",
      "daylightbasement\n",
      "sqftopenporch\n",
      "sqftenclosedporch\n",
      "sqftdeck\n",
      "heatsystem\n",
      "heatsource\n",
      "brickstone\n",
      "viewutilization\n",
      "bedrooms\n",
      "bathhalfcount\n",
      "bath3qtrcount\n",
      "bathfullcount\n",
      "fpsinglestory\n",
      "fpmultistory\n",
      "fpfreestanding\n",
      "fpadditional\n",
      "yrbuilt\n",
      "yrrenovated\n",
      "pcntcomplete\n",
      "obsolescence\n",
      "pcntnetcondition\n",
      "condition\n",
      "addnlcost\n",
      "major\n",
      "minor\n",
      "propname\n",
      "platname\n",
      "platlot\n",
      "platblock\n",
      "range\n",
      "township\n",
      "section\n",
      "quartersection\n",
      "proptype\n",
      "area\n",
      "subarea\n",
      "specarea\n",
      "specsubarea\n",
      "districtname\n",
      "levycode\n",
      "currentzoning\n",
      "hbuasifvacant\n",
      "hbuasimproved\n",
      "presentuse\n",
      "sqftlot\n",
      "watersystem\n",
      "sewersystem\n",
      "access\n",
      "topography\n",
      "streetsurface\n",
      "restrictiveszshape\n",
      "inadequateparking\n",
      "pcntunusable\n",
      "unbuildable\n",
      "mtrainier\n",
      "olympics\n",
      "cascades\n",
      "territorial\n",
      "seattleskyline\n",
      "pugetsound\n",
      "lakewashington\n",
      "lakesammamish\n",
      "smalllakerivercreek\n",
      "otherview\n",
      "wfntlocation\n",
      "wfntfootage\n",
      "wfntbank\n",
      "wfntpoorquality\n",
      "wfntrestrictedaccess\n",
      "wfntaccessrights\n",
      "wfntproximityinfluence\n",
      "tidelandshoreland\n",
      "lotdepthfactor\n",
      "trafficnoise\n",
      "airportnoise\n",
      "powerlines\n",
      "othernuisances\n",
      "nbrbldgsites\n",
      "contamination\n",
      "dnrlease\n",
      "adjacentgolffairway\n",
      "adjacentgreenbelt\n",
      "historicsite\n",
      "currentusedesignation\n",
      "nativegrowthprotesmt\n",
      "easements\n",
      "otherdesignation\n",
      "deedrestrictions\n",
      "developmentrightspurch\n",
      "coalminehazard\n",
      "criticaldrainage\n",
      "erosionhazard\n",
      "landfillbuffer\n",
      "hundredyrfloodplain\n",
      "seismichazard\n",
      "landslidehazard\n",
      "steepslopehazard\n",
      "stream\n",
      "wetland\n",
      "speciesofconcern\n",
      "sensitiveareatract\n",
      "waterproblems\n",
      "transpconcurrency\n",
      "otherproblems\n"
     ]
    }
   ],
   "source": [
    "df = df[(df['saleprice']>0) & (df['saleprice'] <  2*df['saleprice'].std())]\n",
    "for name in df.columns:\n",
    "    print(name)"
   ]
  },
  {
   "cell_type": "code",
   "execution_count": 23,
   "metadata": {},
   "outputs": [
    {
     "name": "stdout",
     "output_type": "stream",
     "text": [
      "316167.38890607195\n",
      "669206.3812379525\n"
     ]
    }
   ],
   "source": [
    "df1 = df[['saleprice', 'sqftlot']]\n",
    "print(df1['saleprice'].std())\n",
    "print(df1['saleprice'].mean())"
   ]
  },
  {
   "cell_type": "code",
   "execution_count": 24,
   "metadata": {},
   "outputs": [
    {
     "data": {
      "image/png": "[encoded data removed]",
      "text/plain": [
       "<Figure size 432x288 with 1 Axes>"
      ]
     },
     "metadata": {
      "needs_background": "light"
     },
     "output_type": "display_data"
    }
   ],
   "source": [
    "sns.distplot(df['saleprice'])\n",
    "plt.axvline(df1['saleprice'].mean(), color = 'red');"
   ]
  },
  {
   "cell_type": "code",
   "execution_count": null,
   "metadata": {},
   "outputs": [],
   "source": [
    "df_clean = df1[df1.saleprice <= ]"
   ]
  }
 ],
 "metadata": {
  "kernelspec": {
   "display_name": "Python 3",
   "language": "python",
   "name": "python3"
  },
  "language_info": {
   "codemirror_mode": {
    "name": "ipython",
    "version": 3
   },
   "file_extension": ".py",
   "mimetype": "text/x-python",
   "name": "python",
   "nbconvert_exporter": "python",
   "pygments_lexer": "ipython3",
   "version": "3.6.6"
  }
 },
 "nbformat": 4,
 "nbformat_minor": 2
}
