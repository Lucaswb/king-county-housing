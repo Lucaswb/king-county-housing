{
 "cells": [
  {
   "cell_type": "code",
   "execution_count": 21,
   "metadata": {},
   "outputs": [],
   "source": [
    "from sqlalchemy import create_engine\n",
    "import pandas as pd\n",
    "import numpy as np\n",
    "engine = create_engine(\"postgresql:///kc_housing\")"
   ]
  },
  {
   "cell_type": "code",
   "execution_count": 7,
   "metadata": {},
   "outputs": [],
   "source": [
    "kc_housing_df = pd.read_sql_table('kc_data', con = engine)"
   ]
  },
  {
   "cell_type": "code",
   "execution_count": 29,
   "metadata": {},
   "outputs": [
    {
     "data": {
      "text/html": [
       "<div>\n",
       "<style scoped>\n",
       "    .dataframe tbody tr th:only-of-type {\n",
       "        vertical-align: middle;\n",
       "    }\n",
       "\n",
       "    .dataframe tbody tr th {\n",
       "        vertical-align: top;\n",
       "    }\n",
       "\n",
       "    .dataframe thead th {\n",
       "        text-align: right;\n",
       "    }\n",
       "</style>\n",
       "<table border=\"1\" class=\"dataframe\">\n",
       "  <thead>\n",
       "    <tr style=\"text-align: right;\">\n",
       "      <th></th>\n",
       "      <th>sqft</th>\n",
       "      <th>saleprice</th>\n",
       "      <th>address</th>\n",
       "      <th>districtname</th>\n",
       "      <th>numberofunits</th>\n",
       "      <th>sqftlot</th>\n",
       "      <th>housefootprint</th>\n",
       "      <th>proportionhouse</th>\n",
       "    </tr>\n",
       "  </thead>\n",
       "  <tbody>\n",
       "  </tbody>\n",
       "</table>\n",
       "</div>"
      ],
      "text/plain": [
       "Empty DataFrame\n",
       "Columns: [sqft, saleprice, address, districtname, numberofunits, sqftlot, housefootprint, proportionhouse]\n",
       "Index: []"
      ]
     },
     "execution_count": 29,
     "metadata": {},
     "output_type": "execute_result"
    }
   ],
   "source": [
    "kc_housing_df.loc[kc_housing_df['saleprice'] == 0]"
   ]
  },
  {
   "cell_type": "code",
   "execution_count": 24,
   "metadata": {},
   "outputs": [
    {
     "data": {
      "text/plain": [
       "0        310000.0\n",
       "1             NaN\n",
       "2             NaN\n",
       "3        500000.0\n",
       "4             NaN\n",
       "           ...   \n",
       "43736    483000.0\n",
       "43737    315000.0\n",
       "43738    205000.0\n",
       "43739         NaN\n",
       "43740         NaN\n",
       "Name: saleprice, Length: 43741, dtype: float64"
      ]
     },
     "execution_count": 24,
     "metadata": {},
     "output_type": "execute_result"
    }
   ],
   "source": [
    "## this converts a saleprice of 0 into a NaN\n",
    "kc_housing_df['saleprice'].replace(0, np.nan, inplace= True)\n",
    "kc_housing_df['saleprice']"
   ]
  },
  {
   "cell_type": "code",
   "execution_count": 32,
   "metadata": {},
   "outputs": [],
   "source": [
    "## this replaces entries with a saleprice of 0 with the overall mean of all saleprices\n",
    "mean_price = kc_housing_df['saleprice'].mean()\n",
    "kc_housing_df['saleprice'] = kc_housing_df['saleprice'].fillna(mean_price)"
   ]
  },
  {
   "cell_type": "code",
   "execution_count": null,
   "metadata": {},
   "outputs": [],
   "source": []
  }
 ],
 "metadata": {
  "kernelspec": {
   "display_name": "oy-env",
   "language": "python",
   "name": "oy-env"
  },
  "language_info": {
   "codemirror_mode": {
    "name": "ipython",
    "version": 3
   },
   "file_extension": ".py",
   "mimetype": "text/x-python",
   "name": "python",
   "nbconvert_exporter": "python",
   "pygments_lexer": "ipython3",
   "version": "3.7.3"
  }
 },
 "nbformat": 4,
 "nbformat_minor": 2
}
